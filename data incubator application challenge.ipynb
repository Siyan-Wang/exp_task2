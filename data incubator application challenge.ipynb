{
 "cells": [
  {
   "cell_type": "code",
   "execution_count": 37,
   "metadata": {
    "collapsed": true
   },
   "outputs": [],
   "source": [
    "import numpy as np\n",
    "import random\n",
    "import pandas as pd\n",
    "from scipy import stats\n",
    "import matplotlib.pyplot as plt"
   ]
  },
  {
   "cell_type": "markdown",
   "metadata": {},
   "source": [
    "### Challenge 1"
   ]
  },
  {
   "cell_type": "code",
   "execution_count": 1,
   "metadata": {},
   "outputs": [
    {
     "name": "stderr",
     "output_type": "stream",
     "text": [
      "/Users/admin/anaconda/lib/python3.6/site-packages/sklearn/externals/six.py:31: DeprecationWarning: The module is deprecated in version 0.21 and will be removed in version 0.23 since we've dropped support for Python 2.7. Please rely on the official version of six (https://pypi.org/project/six/).\n",
      "  \"(https://pypi.org/project/six/).\", DeprecationWarning)\n",
      "/Users/admin/anaconda/lib/python3.6/site-packages/sklearn/externals/joblib/__init__.py:15: DeprecationWarning: sklearn.externals.joblib is deprecated in 0.21 and will be removed in 0.23. Please import this functionality directly from joblib, which can be installed with: pip install joblib. If this warning is raised when loading pickled models, you may need to re-serialize those models with scikit-learn 0.21+.\n",
      "  warnings.warn(msg, category=DeprecationWarning)\n"
     ]
    }
   ],
   "source": [
    "from sklearn.feature_extraction.text import CountVectorizer\n",
    "from sklearn.model_selection import train_test_split\n",
    "from sklearn.linear_model import LogisticRegression\n",
    "from sklearn.linear_model import LogisticRegressionCV\n",
    "from sklearn.model_selection import GridSearchCV\n",
    "import mglearn\n",
    "from sklearn.metrics import roc_auc_score\n",
    "from sklearn.model_selection import cross_val_score\n",
    "from sklearn.model_selection import cross_validate\n",
    "from sklearn.pipeline import make_pipeline\n",
    "from sklearn.svm import LinearSVC\n",
    "from scipy.sparse import hstack\n",
    "from sklearn.feature_extraction.text import TfidfVectorizer, TfidfTransformer\n",
    "from sklearn.preprocessing import Normalizer\n",
    "import sys\n",
    "from sklearn import preprocessing\n",
    "from sklearn import tree\n",
    "from sklearn.ensemble import RandomForestClassifier\n",
    "from sklearn.model_selection import cross_val_score"
   ]
  },
  {
   "cell_type": "code",
   "execution_count": 4,
   "metadata": {},
   "outputs": [],
   "source": [
    "hm=pd.read_csv(\"/Users/admin/desktop/data incubator 2020/happydb/cleaned_hm.csv\")\n",
    "demo=pd.read_csv(\"/Users/admin/desktop/data incubator 2020/happydb/demographic.csv\")"
   ]
  },
  {
   "cell_type": "code",
   "execution_count": 5,
   "metadata": {
    "collapsed": true
   },
   "outputs": [],
   "source": [
    "demo.index=demo.wid"
   ]
  },
  {
   "cell_type": "code",
   "execution_count": 6,
   "metadata": {},
   "outputs": [
    {
     "data": {
      "text/plain": [
       "((100535, 9), (10844, 6))"
      ]
     },
     "execution_count": 6,
     "metadata": {},
     "output_type": "execute_result"
    }
   ],
   "source": [
    "hm.shape,demo.shape"
   ]
  },
  {
   "cell_type": "code",
   "execution_count": 7,
   "metadata": {},
   "outputs": [
    {
     "data": {
      "text/plain": [
       "affection           4810\n",
       "achievement         4276\n",
       "bonding             1750\n",
       "enjoy_the_moment    1514\n",
       "leisure             1306\n",
       "nature               252\n",
       "exercise             217\n",
       "Name: ground_truth_category, dtype: int64"
      ]
     },
     "execution_count": 7,
     "metadata": {},
     "output_type": "execute_result"
    }
   ],
   "source": [
    "hm.ground_truth_category.value_counts()"
   ]
  },
  {
   "cell_type": "code",
   "execution_count": 8,
   "metadata": {},
   "outputs": [
    {
     "data": {
      "text/plain": [
       "affection           34168\n",
       "achievement         33993\n",
       "enjoy_the_moment    11144\n",
       "bonding             10727\n",
       "leisure              7458\n",
       "nature               1843\n",
       "exercise             1202\n",
       "Name: predicted_category, dtype: int64"
      ]
     },
     "execution_count": 8,
     "metadata": {},
     "output_type": "execute_result"
    }
   ],
   "source": [
    "hm.predicted_category.value_counts()"
   ]
  },
  {
   "cell_type": "code",
   "execution_count": 9,
   "metadata": {},
   "outputs": [],
   "source": [
    "hm['age']=hm.wid.replace(demo.age)\n",
    "hm['country']=hm.wid.replace(demo.country)\n",
    "hm['gender']=hm.wid.replace(demo.gender)\n",
    "hm['marital']=hm.wid.replace(demo.marital)\n",
    "hm['parenthood']=hm.wid.replace(demo.parenthood)"
   ]
  },
  {
   "cell_type": "code",
   "execution_count": 10,
   "metadata": {},
   "outputs": [
    {
     "data": {
      "text/plain": [
       "m    57690\n",
       "f    42069\n",
       "o      697\n",
       "Name: gender, dtype: int64"
      ]
     },
     "execution_count": 10,
     "metadata": {},
     "output_type": "execute_result"
    }
   ],
   "source": [
    "hm.gender.value_counts()"
   ]
  },
  {
   "cell_type": "code",
   "execution_count": 11,
   "metadata": {},
   "outputs": [
    {
     "data": {
      "text/html": [
       "<div>\n",
       "<style scoped>\n",
       "    .dataframe tbody tr th:only-of-type {\n",
       "        vertical-align: middle;\n",
       "    }\n",
       "\n",
       "    .dataframe tbody tr th {\n",
       "        vertical-align: top;\n",
       "    }\n",
       "\n",
       "    .dataframe thead th {\n",
       "        text-align: right;\n",
       "    }\n",
       "</style>\n",
       "<table border=\"1\" class=\"dataframe\">\n",
       "  <thead>\n",
       "    <tr style=\"text-align: right;\">\n",
       "      <th></th>\n",
       "      <th>hmid</th>\n",
       "      <th>wid</th>\n",
       "      <th>reflection_period</th>\n",
       "      <th>original_hm</th>\n",
       "      <th>cleaned_hm</th>\n",
       "      <th>modified</th>\n",
       "      <th>num_sentence</th>\n",
       "      <th>ground_truth_category</th>\n",
       "      <th>predicted_category</th>\n",
       "      <th>age</th>\n",
       "      <th>country</th>\n",
       "      <th>marital</th>\n",
       "      <th>parenthood</th>\n",
       "    </tr>\n",
       "    <tr>\n",
       "      <th>gender</th>\n",
       "      <th></th>\n",
       "      <th></th>\n",
       "      <th></th>\n",
       "      <th></th>\n",
       "      <th></th>\n",
       "      <th></th>\n",
       "      <th></th>\n",
       "      <th></th>\n",
       "      <th></th>\n",
       "      <th></th>\n",
       "      <th></th>\n",
       "      <th></th>\n",
       "      <th></th>\n",
       "    </tr>\n",
       "  </thead>\n",
       "  <tbody>\n",
       "    <tr>\n",
       "      <th>f</th>\n",
       "      <td>0.418451</td>\n",
       "      <td>0.418451</td>\n",
       "      <td>0.418451</td>\n",
       "      <td>0.418451</td>\n",
       "      <td>0.418451</td>\n",
       "      <td>0.418451</td>\n",
       "      <td>0.418451</td>\n",
       "      <td>0.058199</td>\n",
       "      <td>0.418451</td>\n",
       "      <td>0.418123</td>\n",
       "      <td>0.417347</td>\n",
       "      <td>0.417705</td>\n",
       "      <td>0.418153</td>\n",
       "    </tr>\n",
       "    <tr>\n",
       "      <th>m</th>\n",
       "      <td>0.573830</td>\n",
       "      <td>0.573830</td>\n",
       "      <td>0.573830</td>\n",
       "      <td>0.573830</td>\n",
       "      <td>0.573830</td>\n",
       "      <td>0.573830</td>\n",
       "      <td>0.573830</td>\n",
       "      <td>0.081355</td>\n",
       "      <td>0.573830</td>\n",
       "      <td>0.573542</td>\n",
       "      <td>0.573064</td>\n",
       "      <td>0.573323</td>\n",
       "      <td>0.573611</td>\n",
       "    </tr>\n",
       "    <tr>\n",
       "      <th>o</th>\n",
       "      <td>0.006933</td>\n",
       "      <td>0.006933</td>\n",
       "      <td>0.006933</td>\n",
       "      <td>0.006933</td>\n",
       "      <td>0.006933</td>\n",
       "      <td>0.006933</td>\n",
       "      <td>0.006933</td>\n",
       "      <td>0.000885</td>\n",
       "      <td>0.006933</td>\n",
       "      <td>0.006903</td>\n",
       "      <td>0.006933</td>\n",
       "      <td>0.006903</td>\n",
       "      <td>0.006903</td>\n",
       "    </tr>\n",
       "  </tbody>\n",
       "</table>\n",
       "</div>"
      ],
      "text/plain": [
       "            hmid       wid  reflection_period  original_hm  cleaned_hm  \\\n",
       "gender                                                                   \n",
       "f       0.418451  0.418451           0.418451     0.418451    0.418451   \n",
       "m       0.573830  0.573830           0.573830     0.573830    0.573830   \n",
       "o       0.006933  0.006933           0.006933     0.006933    0.006933   \n",
       "\n",
       "        modified  num_sentence  ground_truth_category  predicted_category  \\\n",
       "gender                                                                      \n",
       "f       0.418451      0.418451               0.058199            0.418451   \n",
       "m       0.573830      0.573830               0.081355            0.573830   \n",
       "o       0.006933      0.006933               0.000885            0.006933   \n",
       "\n",
       "             age   country   marital  parenthood  \n",
       "gender                                            \n",
       "f       0.418123  0.417347  0.417705    0.418153  \n",
       "m       0.573542  0.573064  0.573323    0.573611  \n",
       "o       0.006903  0.006933  0.006903    0.006903  "
      ]
     },
     "execution_count": 11,
     "metadata": {},
     "output_type": "execute_result"
    }
   ],
   "source": [
    "hm.groupby('gender').count()/hm.shape[0]"
   ]
  },
  {
   "cell_type": "code",
   "execution_count": 12,
   "metadata": {},
   "outputs": [],
   "source": [
    "target=hm.ground_truth_category\n",
    "target_predicted=hm.predicted_category\n",
    "target_predicted_num=preprocessing.label_binarize(target_predicted, classes=[0, 1, 2, 3, 4, 5, 6])"
   ]
  },
  {
   "cell_type": "code",
   "execution_count": 13,
   "metadata": {},
   "outputs": [
    {
     "data": {
      "text/plain": [
       "array([[0, 0, 0, ..., 0, 0, 0],\n",
       "       [0, 0, 0, ..., 0, 0, 0],\n",
       "       [0, 0, 0, ..., 0, 0, 0],\n",
       "       ...,\n",
       "       [0, 0, 0, ..., 0, 0, 0],\n",
       "       [0, 0, 0, ..., 0, 0, 0],\n",
       "       [0, 0, 0, ..., 0, 0, 0]])"
      ]
     },
     "execution_count": 13,
     "metadata": {},
     "output_type": "execute_result"
    }
   ],
   "source": [
    "target_predicted_num"
   ]
  },
  {
   "cell_type": "code",
   "execution_count": 14,
   "metadata": {
    "collapsed": true
   },
   "outputs": [],
   "source": [
    "predictors=hm.drop(columns=['ground_truth_category','predicted_category','hmid', 'wid', 'reflection_period','original_hm'])"
   ]
  },
  {
   "cell_type": "code",
   "execution_count": 15,
   "metadata": {
    "collapsed": true
   },
   "outputs": [],
   "source": [
    "demopredictor=hm.iloc[:,-5:]\n",
    "demopredictor_dumm=pd.get_dummies(demopredictor)"
   ]
  },
  {
   "cell_type": "code",
   "execution_count": 16,
   "metadata": {
    "collapsed": true
   },
   "outputs": [],
   "source": [
    "X_train,X_test, y_train, y_test=train_test_split(demopredictor_dumm,target_predicted)"
   ]
  },
  {
   "cell_type": "code",
   "execution_count": 20,
   "metadata": {
    "collapsed": true
   },
   "outputs": [],
   "source": [
    "X_train_w,X_test_w, y_train_w, y_test_w=train_test_split(predictors.cleaned_hm,target_predicted)"
   ]
  },
  {
   "cell_type": "code",
   "execution_count": 21,
   "metadata": {},
   "outputs": [],
   "source": [
    "vect = CountVectorizer()\n",
    "X_train_w = vect.fit_transform(X_train_w)\n",
    "X_test_w= vect.transform(X_test)\n",
    "feature_names = vect.get_feature_names()"
   ]
  },
  {
   "cell_type": "code",
   "execution_count": 26,
   "metadata": {},
   "outputs": [],
   "source": [
    "#train on title logistic regression w/o tuning\n",
    "from sklearn.svm import LinearSVC\n",
    "tree_simple =tree.DecisionTreeClassifier(max_depth=2).fit(X_train_w, y_train)\n",
    "# mglearn.tools.visualize_coefficients(lr.coef_, feature_names, n_top_features=20)\n",
    "# plt.show()"
   ]
  },
  {
   "cell_type": "code",
   "execution_count": 33,
   "metadata": {},
   "outputs": [
    {
     "name": "stdout",
     "output_type": "stream",
     "text": [
      "score (training set): 0.9749207570191377\n",
      "score(testing set): 0.9749207570191377\n",
      "C for untuned lr: 1\n"
     ]
    }
   ],
   "source": [
    "from sklearn.svm import LinearSVC\n",
    "# lr =LogisticRegression(class_weight='balanced',multi_class='ovr').fit(X_train_w, y_train_w)\n",
    "lr_train=lr.score(X_train_w, y_train_w)\n",
    "lr_test=lr.score(X_train_w, y_train_w)\n",
    "print(\"score (training set):\",lr_train)\n",
    "print(\"score(testing set):\",lr_test)\n",
    "print(\"C for untuned lr: 1\")\n",
    "# mglearn.tools.visualize_coefficients(lr.coef_, feature_names, n_top_features=20)\n",
    "# plt.show()"
   ]
  },
  {
   "cell_type": "code",
   "execution_count": 40,
   "metadata": {},
   "outputs": [
    {
     "data": {
      "text/plain": [
       "GridSearchCV(cv=10, error_score='raise-deprecating',\n",
       "             estimator=DecisionTreeClassifier(class_weight=None,\n",
       "                                              criterion='gini', max_depth=None,\n",
       "                                              max_features=None,\n",
       "                                              max_leaf_nodes=None,\n",
       "                                              min_impurity_decrease=0.0,\n",
       "                                              min_impurity_split=None,\n",
       "                                              min_samples_leaf=1,\n",
       "                                              min_samples_split=2,\n",
       "                                              min_weight_fraction_leaf=0.0,\n",
       "                                              presort=False, random_state=0,\n",
       "                                              splitter='best'),\n",
       "             iid='warn', n_jobs=None, param_grid={'max_depth': range(1, 7)},\n",
       "             pre_dispatch='2*n_jobs', refit=True, return_train_score=True,\n",
       "             scoring=None, verbose=0)"
      ]
     },
     "execution_count": 40,
     "metadata": {},
     "output_type": "execute_result"
    }
   ],
   "source": [
    "from sklearn.model_selection import GridSearchCV\n",
    "param_grid = {'max_depth':range(1, 7)}\n",
    "grid = GridSearchCV(tree.DecisionTreeClassifier(random_state=0),param_grid=param_grid,\n",
    "                    cv=10,return_train_score=True)\n",
    "grid.fit(X_train, y_train)"
   ]
  },
  {
   "cell_type": "code",
   "execution_count": 45,
   "metadata": {},
   "outputs": [
    {
     "data": {
      "image/png": "[encoded data removed]",
      "text/plain": [
       "<Figure size 360x360 with 1 Axes>"
      ]
     },
     "metadata": {},
     "output_type": "display_data"
    }
   ],
   "source": [
    "fig, ax = plt.subplots(1, 1,figsize=(5,5))\n",
    "results_c = pd.DataFrame(grid.cv_results_)\n",
    "ax.plot(range(1, 7), results_c.mean_train_score, 'ro-',label='training score')\n",
    "ax.plot(range(1, 7), results_c.mean_test_score, 'bo-',label='testing score')\n",
    "ax.set_xlabel(\"max_depth\")\n",
    "ax.set_ylabel(\"score\")\n",
    "ax.legend()\n",
    "plt.show()"
   ]
  },
  {
   "cell_type": "code",
   "execution_count": null,
   "metadata": {
    "collapsed": true
   },
   "outputs": [],
   "source": []
  }
 ],
 "metadata": {
  "kernelspec": {
   "display_name": "Python 3",
   "language": "python",
   "name": "python3"
  },
  "language_info": {
   "codemirror_mode": {
    "name": "ipython",
    "version": 3
   },
   "file_extension": ".py",
   "mimetype": "text/x-python",
   "name": "python",
   "nbconvert_exporter": "python",
   "pygments_lexer": "ipython3",
   "version": "3.6.1"
  }
 },
 "nbformat": 4,
 "nbformat_minor": 2
}
